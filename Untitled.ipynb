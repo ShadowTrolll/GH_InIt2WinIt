{
 "cells": [
  {
   "cell_type": "code",
   "execution_count": 7,
   "id": "f8f3cd28",
   "metadata": {},
   "outputs": [
    {
     "data": {
      "text/plain": [
       "[<matplotlib.lines.Line2D at 0x7f78a0be7bb0>]"
      ]
     },
     "execution_count": 7,
     "metadata": {},
     "output_type": "execute_result"
    },
    {
     "data": {
      "image/png": "[encoded data removed]",
      "text/plain": [
       "<Figure size 432x288 with 1 Axes>"
      ]
     },
     "metadata": {
      "needs_background": "light"
     },
     "output_type": "display_data"
    }
   ],
   "source": [
    "from data_prompts import get_meter_data, time2minute, meter_fft\n",
    "import numpy as np\n",
    "from scipy.fft import fft, ifft\n",
    "import matplotlib.pyplot as plt\n",
    "\n",
    "def plot_datasets(dataset):\n",
    "    for i in range(len(dataset)):\n",
    "        day_i = dataset[i]\n",
    "        t = day_i[:,1]\n",
    "        i = day_i[:,0]\n",
    "        \n",
    "        plt.plot(t,i)\n",
    "        \n",
    "def plot_day(day):\n",
    "    t = day[:,1]\n",
    "    i = day[:,0]\n",
    "    plt.plot(t,i)\n",
    "    \n",
    "def average_day(dataset):\n",
    "    day_result = np.zeros_like(dataset[0])\n",
    "    for i in range(len(dataset)):\n",
    "        day_i = dataset[i]\n",
    "        day_result += day_i\n",
    "    return day_result / len(dataset)\n",
    "\n",
    "def create_dataset(meter_id, one_day = True):\n",
    "    \"\"\"\n",
    "        dataset = [\n",
    "            (importance_1, time_in_minutes_1),\n",
    "            (importance_2, time_in_minutes_2),\n",
    "            (importance_3, time_in_minutes_3),\n",
    "            ...\n",
    "        ]\n",
    "    \"\"\"\n",
    "    assert isinstance(meter_id, int)\n",
    "    data_points, dataset, datasets = [], [], []\n",
    "    data = get_meter_data(meter_id)\n",
    "    for data_point in data:\n",
    "        data_points.append(\n",
    "            (data_point[\"variable_importance\"], time2minute(data_point[\"time\"]))\n",
    "        )\n",
    "    \n",
    "    data_points = np.array(data_points)\n",
    "    dataset_diff = np.diff(data_points[:,1])\n",
    "    idxs, = np.where(dataset_diff <= 0)\n",
    "    for i in range(0, len(idxs)):\n",
    "        if i + 1 != len(idxs):\n",
    "            dataset = data_points[idxs[i]+1:idxs[i+1]+1, :]\n",
    "        else:\n",
    "            dataset = data_points[idxs[i]+1:0, :]\n",
    "            \n",
    "        if dataset.shape[0] != 0:\n",
    "            datasets.append(dataset)\n",
    "        \n",
    "    if one_day:\n",
    "        return datasets[0]\n",
    "    return datasets\n",
    "\n",
    "'''for i in range(1,10):\n",
    "    datasets = create_dataset(meter_id = i, one_day = False)\n",
    "    avg_day = average_day(datasets)\n",
    "    filtered = []\n",
    "    for day in datasets:\n",
    "        x = fft(day[:,0])\n",
    "\n",
    "        N = 8\n",
    "        K = 150\n",
    "\n",
    "        x[N:K] = 0\n",
    "        x[-K:-N] = 0\n",
    "\n",
    "        filtered.append(ifft(x))\n",
    "\n",
    "    filtered_avg = average_day(filtered)\n",
    "    plot_day(avg_day)\n",
    "    plt.plot(day[:,1],abs(filtered_avg))\n",
    "    plt.show()'''\n",
    "\n",
    "plt.plot(meter_fft(3)[1])\n",
    "    \n",
    "    \n",
    "    "
   ]
  },
  {
   "cell_type": "code",
   "execution_count": null,
   "id": "087c19a4",
   "metadata": {},
   "outputs": [],
   "source": [
    "\n"
   ]
  }
 ],
 "metadata": {
  "kernelspec": {
   "display_name": "Python 3 (ipykernel)",
   "language": "python",
   "name": "python3"
  },
  "language_info": {
   "codemirror_mode": {
    "name": "ipython",
    "version": 3
   },
   "file_extension": ".py",
   "mimetype": "text/x-python",
   "name": "python",
   "nbconvert_exporter": "python",
   "pygments_lexer": "ipython3",
   "version": "3.8.10"
  }
 },
 "nbformat": 4,
 "nbformat_minor": 5
}
